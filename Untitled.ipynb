{
 "cells": [
  {
   "cell_type": "code",
   "execution_count": 1,
   "metadata": {
    "collapsed": true
   },
   "outputs": [],
   "source": [
    "from parse_into_pandas import DictDF"
   ]
  },
  {
   "cell_type": "code",
   "execution_count": 2,
   "metadata": {
    "collapsed": true
   },
   "outputs": [],
   "source": [
    "ddf = DictDF()"
   ]
  },
  {
   "cell_type": "code",
   "execution_count": 3,
   "metadata": {
    "collapsed": true
   },
   "outputs": [],
   "source": [
    "ddf.load_single_entries()"
   ]
  },
  {
   "cell_type": "code",
   "execution_count": 5,
   "metadata": {
    "collapsed": false
   },
   "outputs": [
    {
     "data": {
      "text/html": [
       "<div>\n",
       "<table border=\"1\" class=\"dataframe\">\n",
       "  <thead>\n",
       "    <tr style=\"text-align: right;\">\n",
       "      <th></th>\n",
       "      <th>Unnamed: 0</th>\n",
       "      <th>traditional</th>\n",
       "      <th>pinyin</th>\n",
       "      <th>pinyin(raw)</th>\n",
       "      <th>tone</th>\n",
       "      <th>definition</th>\n",
       "      <th>variants</th>\n",
       "      <th>measure-words</th>\n",
       "    </tr>\n",
       "  </thead>\n",
       "  <tbody>\n",
       "    <tr>\n",
       "      <th>0</th>\n",
       "      <td>0</td>\n",
       "      <td>○</td>\n",
       "      <td>líng</td>\n",
       "      <td>ling</td>\n",
       "      <td>2</td>\n",
       "      <td>['character used in Taiwan as a substitute for...</td>\n",
       "      <td>[{u'ch': '\\xe3\\x80\\x87', u'py': 'ling2', u'chs...</td>\n",
       "      <td>[]</td>\n",
       "    </tr>\n",
       "    <tr>\n",
       "      <th>1</th>\n",
       "      <td>1</td>\n",
       "      <td>⺮</td>\n",
       "      <td>zhú</td>\n",
       "      <td>zhu</td>\n",
       "      <td>2</td>\n",
       "      <td>['\"bamboo\" radical in Chinese characters (Kang...</td>\n",
       "      <td>[]</td>\n",
       "      <td>[]</td>\n",
       "    </tr>\n",
       "    <tr>\n",
       "      <th>2</th>\n",
       "      <td>2</td>\n",
       "      <td>〇</td>\n",
       "      <td>líng</td>\n",
       "      <td>ling</td>\n",
       "      <td>2</td>\n",
       "      <td>['zero']</td>\n",
       "      <td>[]</td>\n",
       "      <td>[]</td>\n",
       "    </tr>\n",
       "    <tr>\n",
       "      <th>3</th>\n",
       "      <td>3</td>\n",
       "      <td>〡</td>\n",
       "      <td>yī</td>\n",
       "      <td>yi</td>\n",
       "      <td>1</td>\n",
       "      <td>['numeral 1 in Suzhou numeral system \\xe8\\x98\\...</td>\n",
       "      <td>[]</td>\n",
       "      <td>[]</td>\n",
       "    </tr>\n",
       "    <tr>\n",
       "      <th>4</th>\n",
       "      <td>4</td>\n",
       "      <td>〢</td>\n",
       "      <td>èr</td>\n",
       "      <td>er</td>\n",
       "      <td>4</td>\n",
       "      <td>['numeral 2 in Suzhou numeral system \\xe8\\x98\\...</td>\n",
       "      <td>[]</td>\n",
       "      <td>[]</td>\n",
       "    </tr>\n",
       "  </tbody>\n",
       "</table>\n",
       "</div>"
      ],
      "text/plain": [
       "   Unnamed: 0 traditional pinyin pinyin(raw)  tone  \\\n",
       "0           0           ○   líng        ling     2   \n",
       "1           1           ⺮    zhú         zhu     2   \n",
       "2           2           〇   líng        ling     2   \n",
       "3           3           〡     yī          yi     1   \n",
       "4           4           〢     èr          er     4   \n",
       "\n",
       "                                          definition  \\\n",
       "0  ['character used in Taiwan as a substitute for...   \n",
       "1  ['\"bamboo\" radical in Chinese characters (Kang...   \n",
       "2                                           ['zero']   \n",
       "3  ['numeral 1 in Suzhou numeral system \\xe8\\x98\\...   \n",
       "4  ['numeral 2 in Suzhou numeral system \\xe8\\x98\\...   \n",
       "\n",
       "                                            variants measure-words  \n",
       "0  [{u'ch': '\\xe3\\x80\\x87', u'py': 'ling2', u'chs...            []  \n",
       "1                                                 []            []  \n",
       "2                                                 []            []  \n",
       "3                                                 []            []  \n",
       "4                                                 []            []  "
      ]
     },
     "execution_count": 5,
     "metadata": {},
     "output_type": "execute_result"
    }
   ],
   "source": [
    "ddf.s_df.head()"
   ]
  },
  {
   "cell_type": "code",
   "execution_count": null,
   "metadata": {
    "collapsed": true
   },
   "outputs": [],
   "source": []
  }
 ],
 "metadata": {
  "kernelspec": {
   "display_name": "Python 2",
   "language": "python",
   "name": "python2"
  },
  "language_info": {
   "codemirror_mode": {
    "name": "ipython",
    "version": 2
   },
   "file_extension": ".py",
   "mimetype": "text/x-python",
   "name": "python",
   "nbconvert_exporter": "python",
   "pygments_lexer": "ipython2",
   "version": "2.7.13"
  }
 },
 "nbformat": 4,
 "nbformat_minor": 2
}
